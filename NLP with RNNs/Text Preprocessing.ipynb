{
 "cells": [
  {
   "cell_type": "markdown",
   "id": "4e75245a-e48e-4c51-a68c-1bdfd07feff0",
   "metadata": {},
   "source": [
    "# Pre Processing del Testo"
   ]
  },
  {
   "cell_type": "code",
   "execution_count": 5,
   "id": "2babab32-69b6-41bb-a241-c7f3f91e3a9f",
   "metadata": {},
   "outputs": [],
   "source": [
    "import tensorflow as tf\n",
    "from tensorflow.keras.preprocessing.text import Tokenizer\n",
    "from tensorflow.keras.preprocessing.sequence import pad_sequences"
   ]
  },
  {
   "cell_type": "code",
   "execution_count": 7,
   "id": "dc8b92d6-c14d-4a32-a6de-1168262232b6",
   "metadata": {},
   "outputs": [],
   "source": [
    "# Test semplice\n",
    "sentences =[\n",
    "    \"I love Christmas adn Easter\",\n",
    "    \"I love candies and chocolate\",\n",
    "    \"I hate onions\",\n",
    "]"
   ]
  },
  {
   "cell_type": "code",
   "execution_count": 8,
   "id": "ef57fee0-3dd2-48a4-b3c6-a8de6a01c2cf",
   "metadata": {},
   "outputs": [],
   "source": [
    "MAX_VOCAB_SIZE = 20_000\n",
    "tokenizer = Tokenizer(num_words=MAX_VOCAB_SIZE)\n",
    "tokenizer.fit_on_texts(sentences)\n",
    "sequences = tokenizer.texts_to_sequences(sentences)"
   ]
  },
  {
   "cell_type": "code",
   "execution_count": 10,
   "id": "1da7af9f-7279-4384-bc65-1f7eaf2f0d23",
   "metadata": {},
   "outputs": [
    {
     "name": "stdout",
     "output_type": "stream",
     "text": [
      "[[1, 2, 3, 4, 5], [1, 2, 6, 7, 8], [1, 9, 10]]\n"
     ]
    }
   ],
   "source": [
    "print(sequences)"
   ]
  },
  {
   "cell_type": "code",
   "execution_count": 11,
   "id": "a52593ab-4349-4ac0-b7e6-ebfc21681a7f",
   "metadata": {},
   "outputs": [
    {
     "data": {
      "text/plain": [
       "{'i': 1,\n",
       " 'love': 2,\n",
       " 'christmas': 3,\n",
       " 'adn': 4,\n",
       " 'easter': 5,\n",
       " 'candies': 6,\n",
       " 'and': 7,\n",
       " 'chocolate': 8,\n",
       " 'hate': 9,\n",
       " 'onions': 10}"
      ]
     },
     "execution_count": 11,
     "metadata": {},
     "output_type": "execute_result"
    }
   ],
   "source": [
    "tokenizer.word_index"
   ]
  },
  {
   "cell_type": "code",
   "execution_count": 14,
   "id": "7ca5b6fb-5c6a-48ae-8640-e16e40b50861",
   "metadata": {},
   "outputs": [
    {
     "data": {
      "text/plain": [
       "array([[ 1,  2,  3,  4,  5],\n",
       "       [ 1,  2,  6,  7,  8],\n",
       "       [ 0,  0,  1,  9, 10]])"
      ]
     },
     "execution_count": 14,
     "metadata": {},
     "output_type": "execute_result"
    }
   ],
   "source": [
    "data = pad_sequences(sequences)\n",
    "data"
   ]
  },
  {
   "cell_type": "code",
   "execution_count": 15,
   "id": "3564e018-83c6-4988-804c-6db5a7fe6d59",
   "metadata": {},
   "outputs": [
    {
     "data": {
      "text/plain": [
       "array([[ 1,  2,  3,  4,  5],\n",
       "       [ 1,  2,  6,  7,  8],\n",
       "       [ 1,  9, 10,  0,  0]])"
      ]
     },
     "execution_count": 15,
     "metadata": {},
     "output_type": "execute_result"
    }
   ],
   "source": [
    "# Possiamo passare padding a \"post\" per avere il padding dopo. Possiamo allungare o accorciare la sequenza con la MAX SEQUENCE\n",
    "MAX_SEQUENCE_LEN = 5\n",
    "data = pad_sequences(sequences, maxlen=MAX_SEQUENCE_LEN, padding=\"post\")\n",
    "data"
   ]
  },
  {
   "cell_type": "code",
   "execution_count": 16,
   "id": "ee0cf51e-6237-4651-9945-ee4ce69874e1",
   "metadata": {},
   "outputs": [
    {
     "data": {
      "text/plain": [
       "array([[ 2,  3,  4,  5],\n",
       "       [ 2,  6,  7,  8],\n",
       "       [ 1,  9, 10,  0]])"
      ]
     },
     "execution_count": 16,
     "metadata": {},
     "output_type": "execute_result"
    }
   ],
   "source": [
    "# Con una sequenza massima più corta, taglieremmo alcune parti. Possiamo decidere dove tagliare con truncating\n",
    "MAX_SEQUENCE_LEN = 4\n",
    "data = pad_sequences(sequences, maxlen=MAX_SEQUENCE_LEN, padding=\"post\", truncating=\"pre\")\n",
    "data"
   ]
  },
  {
   "cell_type": "code",
   "execution_count": null,
   "id": "f302eb47-1274-49ca-b927-6cd05f45376a",
   "metadata": {},
   "outputs": [],
   "source": []
  }
 ],
 "metadata": {
  "kernelspec": {
   "display_name": "Python 3 (ipykernel)",
   "language": "python",
   "name": "python3"
  },
  "language_info": {
   "codemirror_mode": {
    "name": "ipython",
    "version": 3
   },
   "file_extension": ".py",
   "mimetype": "text/x-python",
   "name": "python",
   "nbconvert_exporter": "python",
   "pygments_lexer": "ipython3",
   "version": "3.12.5"
  }
 },
 "nbformat": 4,
 "nbformat_minor": 5
}
