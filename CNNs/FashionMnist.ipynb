{
 "cells": [
  {
   "cell_type": "markdown",
   "id": "d1b22012-fdb7-4f3e-8e87-35e6e9ff8294",
   "metadata": {},
   "source": [
    "# 1 Color Convolutional Neural Network Classification"
   ]
  },
  {
   "cell_type": "code",
   "execution_count": 1,
   "id": "e2814c30-24d9-4530-a88e-34ea118d8d30",
   "metadata": {},
   "outputs": [],
   "source": [
    "import tensorflow as tf"
   ]
  },
  {
   "cell_type": "code",
   "execution_count": 2,
   "id": "cd0b5072-39c9-41b5-b7e4-a9bd55d1b1c3",
   "metadata": {},
   "outputs": [],
   "source": [
    "import numpy as np\n",
    "import matplotlib.pyplot as plt\n",
    "from tensorflow.keras.layers import Input, Conv2D, Dense, Flatten, Dropout\n",
    "from tensorflow.keras.models import Model"
   ]
  },
  {
   "cell_type": "code",
   "execution_count": 3,
   "id": "4b3523ce-e2d4-44e9-ae88-79dd30f16d29",
   "metadata": {},
   "outputs": [],
   "source": [
    "fashion_mnist = tf.keras.datasets.fashion_mnist"
   ]
  },
  {
   "cell_type": "code",
   "execution_count": 4,
   "id": "6e3695fa-b3fa-4347-90a0-c39fcacef6ef",
   "metadata": {},
   "outputs": [],
   "source": [
    "(x_train, y_train), (x_test, y_test) = fashion_mnist.load_data()"
   ]
  },
  {
   "cell_type": "code",
   "execution_count": 5,
   "id": "0d4497b1-dd65-48aa-a385-fbd5a0dd58fc",
   "metadata": {},
   "outputs": [],
   "source": [
    "x_train = x_train / 255.0\n",
    "x_test = x_test / 255.0"
   ]
  },
  {
   "cell_type": "code",
   "execution_count": 6,
   "id": "f20d18f8-9a3e-4b46-a803-d3164a5eb48d",
   "metadata": {},
   "outputs": [
    {
     "data": {
      "text/plain": [
       "((60000, 28, 28), (60000,))"
      ]
     },
     "execution_count": 6,
     "metadata": {},
     "output_type": "execute_result"
    }
   ],
   "source": [
    "x_train.shape, y_train.shape"
   ]
  },
  {
   "cell_type": "code",
   "execution_count": 7,
   "id": "8e13f4f8-a258-4887-8f3a-a6f51bfe19a1",
   "metadata": {},
   "outputs": [
    {
     "data": {
      "text/plain": [
       "(60000, 28, 28, 1)"
      ]
     },
     "execution_count": 7,
     "metadata": {},
     "output_type": "execute_result"
    }
   ],
   "source": [
    "x_train = np.expand_dims(x_train, -1)\n",
    "x_test = np.expand_dims(x_test, -1)\n",
    "x_train.shape"
   ]
  },
  {
   "cell_type": "code",
   "execution_count": 8,
   "id": "f50aebdb-6e3e-4b69-b1a4-8b0a107d3d8a",
   "metadata": {},
   "outputs": [
    {
     "data": {
      "text/plain": [
       "10"
      ]
     },
     "execution_count": 8,
     "metadata": {},
     "output_type": "execute_result"
    }
   ],
   "source": [
    "classes = len(set(y_train))\n",
    "classes"
   ]
  },
  {
   "cell_type": "markdown",
   "id": "e2c95ff4-ceac-40d7-aa81-669a83ef1d44",
   "metadata": {},
   "source": [
    "### Building Model"
   ]
  },
  {
   "cell_type": "code",
   "execution_count": 14,
   "id": "f5dcde46-6128-4ecb-805d-377273d07f15",
   "metadata": {},
   "outputs": [],
   "source": [
    "# Usiamo le strided Convolutions invece di fare il maxpooling\n",
    "i = Input(shape=x_train[0].shape)\n",
    "x = Conv2D(32, (3, 3), strides=2, activation=\"relu\")(i)\n",
    "x = Conv2D(64, (3, 3), strides=2, activation=\"relu\")(x)\n",
    "x = Conv2D(128, (3, 3), strides=2, activation=\"relu\")(x)\n",
    "x = Flatten()(x)\n",
    "x = Dropout(0.2)(x)\n",
    "x = Dense(512, activation=\"relu\")(x)\n",
    "x = Dropout(0.2)(x)\n",
    "x = Dense(classes, activation=\"softmax\")(x)\n",
    "\n",
    "model = Model(i, x)"
   ]
  },
  {
   "cell_type": "code",
   "execution_count": 15,
   "id": "c04c483c-cf3d-4ccb-864a-9087081b2dbf",
   "metadata": {},
   "outputs": [],
   "source": [
    "model.compile(optimizer=\"adam\", loss=\"sparse_categorical_crossentropy\", metrics=[\"accuracy\"])"
   ]
  },
  {
   "cell_type": "code",
   "execution_count": 16,
   "id": "1e02588d-5624-4cb8-993c-d3d7182daf11",
   "metadata": {},
   "outputs": [
    {
     "name": "stdout",
     "output_type": "stream",
     "text": [
      "Model: \"model_1\"\n",
      "_________________________________________________________________\n",
      " Layer (type)                Output Shape              Param #   \n",
      "=================================================================\n",
      " input_3 (InputLayer)        [(None, 28, 28, 1)]       0         \n",
      "                                                                 \n",
      " conv2d_6 (Conv2D)           (None, 13, 13, 32)        320       \n",
      "                                                                 \n",
      " conv2d_7 (Conv2D)           (None, 6, 6, 64)          18496     \n",
      "                                                                 \n",
      " conv2d_8 (Conv2D)           (None, 2, 2, 128)         73856     \n",
      "                                                                 \n",
      " flatten_2 (Flatten)         (None, 512)               0         \n",
      "                                                                 \n",
      " dropout_4 (Dropout)         (None, 512)               0         \n",
      "                                                                 \n",
      " dense_3 (Dense)             (None, 512)               262656    \n",
      "                                                                 \n",
      " dropout_5 (Dropout)         (None, 512)               0         \n",
      "                                                                 \n",
      " dense_4 (Dense)             (None, 10)                5130      \n",
      "                                                                 \n",
      "=================================================================\n",
      "Total params: 360,458\n",
      "Trainable params: 360,458\n",
      "Non-trainable params: 0\n",
      "_________________________________________________________________\n"
     ]
    }
   ],
   "source": [
    "model.summary()"
   ]
  },
  {
   "cell_type": "code",
   "execution_count": 17,
   "id": "b3e701a6-b51d-48c7-b795-eb15c569b3fa",
   "metadata": {},
   "outputs": [
    {
     "name": "stdout",
     "output_type": "stream",
     "text": [
      "Epoch 1/15\n",
      "1875/1875 [==============================] - 16s 8ms/step - loss: 0.5180 - accuracy: 0.8080 - val_loss: 0.3986 - val_accuracy: 0.8487\n",
      "Epoch 2/15\n",
      "1875/1875 [==============================] - 15s 8ms/step - loss: 0.3559 - accuracy: 0.8654 - val_loss: 0.3613 - val_accuracy: 0.8674\n",
      "Epoch 3/15\n",
      "1875/1875 [==============================] - 15s 8ms/step - loss: 0.3069 - accuracy: 0.8862 - val_loss: 0.3236 - val_accuracy: 0.8822\n",
      "Epoch 4/15\n",
      "1875/1875 [==============================] - 16s 8ms/step - loss: 0.2749 - accuracy: 0.8969 - val_loss: 0.2994 - val_accuracy: 0.8915\n",
      "Epoch 5/15\n",
      "1875/1875 [==============================] - 15s 8ms/step - loss: 0.2481 - accuracy: 0.9070 - val_loss: 0.2917 - val_accuracy: 0.8937\n",
      "Epoch 6/15\n",
      "1875/1875 [==============================] - 16s 8ms/step - loss: 0.2267 - accuracy: 0.9150 - val_loss: 0.2915 - val_accuracy: 0.8956\n",
      "Epoch 7/15\n",
      "1875/1875 [==============================] - 15s 8ms/step - loss: 0.2086 - accuracy: 0.9209 - val_loss: 0.2989 - val_accuracy: 0.8957\n",
      "Epoch 8/15\n",
      "1875/1875 [==============================] - 15s 8ms/step - loss: 0.1955 - accuracy: 0.9261 - val_loss: 0.2984 - val_accuracy: 0.8950\n",
      "Epoch 9/15\n",
      "1875/1875 [==============================] - 15s 8ms/step - loss: 0.1795 - accuracy: 0.9310 - val_loss: 0.3117 - val_accuracy: 0.8963\n",
      "Epoch 10/15\n",
      "1875/1875 [==============================] - 16s 8ms/step - loss: 0.1686 - accuracy: 0.9347 - val_loss: 0.3150 - val_accuracy: 0.8963\n",
      "Epoch 11/15\n",
      "1875/1875 [==============================] - 18s 10ms/step - loss: 0.1577 - accuracy: 0.9398 - val_loss: 0.3180 - val_accuracy: 0.9019\n",
      "Epoch 12/15\n",
      "1875/1875 [==============================] - 18s 10ms/step - loss: 0.1460 - accuracy: 0.9442 - val_loss: 0.3254 - val_accuracy: 0.9023\n",
      "Epoch 13/15\n",
      "1875/1875 [==============================] - 19s 10ms/step - loss: 0.1387 - accuracy: 0.9475 - val_loss: 0.3209 - val_accuracy: 0.9005\n",
      "Epoch 14/15\n",
      "1875/1875 [==============================] - 18s 10ms/step - loss: 0.1331 - accuracy: 0.9499 - val_loss: 0.3614 - val_accuracy: 0.8983\n",
      "Epoch 15/15\n",
      "1875/1875 [==============================] - 18s 10ms/step - loss: 0.1247 - accuracy: 0.9528 - val_loss: 0.3573 - val_accuracy: 0.8980\n"
     ]
    }
   ],
   "source": [
    "r = model.fit(x_train, y_train, validation_data=(x_test, y_test), epochs=15)"
   ]
  },
  {
   "cell_type": "markdown",
   "id": "eeac5efb-dcc7-4ef2-a2b9-4900080069a6",
   "metadata": {},
   "source": [
    "### Testing"
   ]
  },
  {
   "cell_type": "code",
   "execution_count": 18,
   "id": "b77293f3-8ff6-40d1-a75d-84fe387e7808",
   "metadata": {},
   "outputs": [
    {
     "data": {
      "text/plain": [
       "<matplotlib.legend.Legend at 0x7f989ccca430>"
      ]
     },
     "execution_count": 18,
     "metadata": {},
     "output_type": "execute_result"
    },
    {
     "data": {
      "image/png": "[encoded data removed]",
      "text/plain": [
       "<Figure size 432x288 with 1 Axes>"
      ]
     },
     "metadata": {
      "needs_background": "light"
     },
     "output_type": "display_data"
    }
   ],
   "source": [
    "plt.plot(r.history[\"loss\"], label=\"loss\")\n",
    "plt.plot(r.history[\"val_loss\"], label=\"validation loss\")\n",
    "plt.legend()"
   ]
  },
  {
   "cell_type": "code",
   "execution_count": 20,
   "id": "62e09d68-008d-485a-9013-65fc5e98368a",
   "metadata": {},
   "outputs": [
    {
     "data": {
      "text/plain": [
       "<matplotlib.legend.Legend at 0x7f989d4394c0>"
      ]
     },
     "execution_count": 20,
     "metadata": {},
     "output_type": "execute_result"
    },
    {
     "data": {
      "image/png": "[encoded data removed]",
      "text/plain": [
       "<Figure size 432x288 with 1 Axes>"
      ]
     },
     "metadata": {
      "needs_background": "light"
     },
     "output_type": "display_data"
    }
   ],
   "source": [
    "plt.plot(r.history[\"accuracy\"], label=\"accuracy\")\n",
    "plt.plot(r.history[\"val_accuracy\"], label=\"validation accuracy\")\n",
    "plt.legend()"
   ]
  },
  {
   "cell_type": "code",
   "execution_count": 22,
   "id": "072e42d3-90cb-4e9d-b1f2-9e3b20d63634",
   "metadata": {},
   "outputs": [
    {
     "name": "stdout",
     "output_type": "stream",
     "text": [
      "Confusion matrix without normalization\n",
      "[[888   2  17  14   1   1  73   0   4   0]\n",
      " [  3 975   1  12   3   1   4   0   1   0]\n",
      " [ 25   0 821  11  53   0  86   0   4   0]\n",
      " [ 17  15  12 887  33   0  33   0   3   0]\n",
      " [  3   1  60  19 829   0  86   0   2   0]\n",
      " [  1   0   0   1   0 972   0  16   3   7]\n",
      " [119   2  60  23  83   0 701   0  12   0]\n",
      " [  0   0   0   0   0   9   0 964   0  27]\n",
      " [  3   0   8   3   4   1   6   1 972   2]\n",
      " [  1   0   0   0   0   5   0  22   1 971]]\n"
     ]
    },
    {
     "data": {
      "image/png": "[encoded data removed]",
      "text/plain": [
       "<Figure size 432x288 with 2 Axes>"
      ]
     },
     "metadata": {
      "needs_background": "light"
     },
     "output_type": "display_data"
    }
   ],
   "source": [
    "from sklearn.metrics import confusion_matrix\n",
    "import itertools\n",
    "\n",
    "def plot_confusion_matrix(cm, classes, normalize=False, title=\"confusion_matrix\", cmap=plt.cm.Blues):\n",
    "\n",
    "    if normalize:\n",
    "        cm = cm.astype(\"float\") / cm.sum(axis=1)[:, np.newaxis]\n",
    "        print(\"Normalized Confusion Matrix\")\n",
    "    else:\n",
    "        print(\"Confusion matrix without normalization\")\n",
    "\n",
    "    print(cm)\n",
    "\n",
    "    plt.imshow(cm, interpolation=\"nearest\", cmap=cmap)\n",
    "    plt.title(title)\n",
    "    plt.colorbar()\n",
    "    tick_marks = np.arange(len(classes))\n",
    "    plt.xticks(tick_marks, classes, rotation=45)\n",
    "    plt.yticks(tick_marks, classes)\n",
    "\n",
    "    fmt = \".2f\" if normalize else \"d\"\n",
    "    thresh = cm.max() / 2.\n",
    "    for i, j in itertools.product(range(cm.shape[0]), range(cm.shape[1])):\n",
    "        plt.text(j, i, format(cm[i, j], fmt), horizontalalignment=\"center\", color=\"white\" if cm[i,j] > thresh else \"black\")\n",
    "\n",
    "    plt.tight_layout()\n",
    "    plt.ylabel(\"True label\")\n",
    "    plt.xlabel(\"Predicted label\")\n",
    "    plt.show()\n",
    "\n",
    "p_test = model.predict(x_test).argmax(axis=1)\n",
    "cm = confusion_matrix(y_test, p_test)\n",
    "plot_confusion_matrix(cm, list(range(10)))"
   ]
  },
  {
   "cell_type": "code",
   "execution_count": 23,
   "id": "7f14f4ee-002b-46d7-917a-fd0b0465d89a",
   "metadata": {},
   "outputs": [],
   "source": [
    "labels= [\n",
    "    \"T-shirt/top\", \"Trouser\", \"Pullover\", \"Dress\", \"Coat\", \"Sandal\", \"Shirt\", \"Sneaker\", \"Bag\", \"Ankle Boot\"\n",
    "]"
   ]
  },
  {
   "cell_type": "code",
   "execution_count": 29,
   "id": "e731b51a-c4c0-4f1a-b049-cdbffdfbb7ad",
   "metadata": {},
   "outputs": [
    {
     "data": {
      "image/png": "[encoded data removed]",
      "text/plain": [
       "<Figure size 432x288 with 1 Axes>"
      ]
     },
     "metadata": {
      "needs_background": "light"
     },
     "output_type": "display_data"
    }
   ],
   "source": [
    "misclassified_idx = np.where(p_test != y_test)[0]\n",
    "i = np.random.choice(misclassified_idx)\n",
    "plt.imshow(x_test[i].reshape(28,28), cmap=\"gray\")\n",
    "plt.title(f\"True label: {labels[y_test[i]]} predicted as: {labels[p_test[i]]}\");"
   ]
  },
  {
   "cell_type": "code",
   "execution_count": 32,
   "id": "f21183ee-e70b-4412-9769-eed9e93ff2d7",
   "metadata": {},
   "outputs": [
    {
     "data": {
      "image/png": "[encoded data removed]",
      "text/plain": [
       "<Figure size 432x288 with 1 Axes>"
      ]
     },
     "metadata": {
      "needs_background": "light"
     },
     "output_type": "display_data"
    }
   ],
   "source": [
    "good_classified_idx = np.where(p_test == y_test)[0]\n",
    "i = np.random.choice(good_classified_idx)\n",
    "plt.imshow(x_test[i].reshape(28,28), cmap=\"gray\")\n",
    "plt.title(f\"True label: {labels[y_test[i]]} predicted as: {labels[p_test[i]]}\");"
   ]
  },
  {
   "cell_type": "code",
   "execution_count": null,
   "id": "78095596-b571-42e1-845f-0bc71111e28c",
   "metadata": {},
   "outputs": [],
   "source": []
  }
 ],
 "metadata": {
  "kernelspec": {
   "display_name": "Python 3",
   "language": "python",
   "name": "python3"
  },
  "language_info": {
   "codemirror_mode": {
    "name": "ipython",
    "version": 3
   },
   "file_extension": ".py",
   "mimetype": "text/x-python",
   "name": "python",
   "nbconvert_exporter": "python",
   "pygments_lexer": "ipython3",
   "version": "3.8.10"
  }
 },
 "nbformat": 4,
 "nbformat_minor": 5
}
