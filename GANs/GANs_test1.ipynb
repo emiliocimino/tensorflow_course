{
 "cells": [
  {
   "cell_type": "markdown",
   "id": "197724b5-0829-4492-a67f-ba8802ea4b13",
   "metadata": {},
   "source": [
    "# GAN Example"
   ]
  },
  {
   "cell_type": "code",
   "execution_count": 1,
   "id": "2a2e3c86-7fb6-4195-974b-e5f23cae99db",
   "metadata": {},
   "outputs": [],
   "source": [
    "import tensorflow as tf\n",
    "\n",
    "from tensorflow.keras.layers import Input, Conv2D, Dense, Flatten, Dropout, BatchNormalization, MaxPooling2D, LeakyReLU\n",
    "from tensorflow.keras.models import Model\n",
    "from tensorflow.keras import ops\n",
    "from tensorflow.keras.optimizers import Adam\n",
    "from tensorflow.keras.datasets import mnist\n",
    "\n",
    "import numpy as np\n",
    "import matplotlib.pyplot as plt\n",
    "import sys, os"
   ]
  },
  {
   "cell_type": "code",
   "execution_count": 2,
   "id": "c181843e-6853-408f-9c69-9cdf9f40bd1f",
   "metadata": {},
   "outputs": [],
   "source": [
    "(x_train, y_train), (x_test, y_test) = mnist.load_data()"
   ]
  },
  {
   "cell_type": "code",
   "execution_count": 3,
   "id": "7d1b2d64-55b2-4266-b325-936291ba4b29",
   "metadata": {},
   "outputs": [],
   "source": [
    "# Centriamo in 0, tra -1 e 1\n",
    "x_train = (x_train / 255.0) * 2 - 1 \n",
    "x_test = (x_test / 255.0) * 2 - 1 "
   ]
  },
  {
   "cell_type": "code",
   "execution_count": 4,
   "id": "1c6eb761-f36b-41fb-8a90-5983d61d4fe7",
   "metadata": {},
   "outputs": [
    {
     "name": "stdout",
     "output_type": "stream",
     "text": [
      "60000 28 28 784\n"
     ]
    }
   ],
   "source": [
    "N, H, W = x_train.shape\n",
    "D = H * W # Facciamo flattening\n",
    "print(N, H, W, D)"
   ]
  },
  {
   "cell_type": "code",
   "execution_count": 5,
   "id": "21057054-460d-4546-985c-e205c79a3b38",
   "metadata": {},
   "outputs": [],
   "source": [
    "x_train = x_train.reshape(-1, D)\n",
    "x_test = x_test.reshape(-1, D)"
   ]
  },
  {
   "cell_type": "code",
   "execution_count": 6,
   "id": "73b902d0-3abf-46c2-b802-fc62e6d3dc14",
   "metadata": {},
   "outputs": [],
   "source": [
    "latent_dim = 100"
   ]
  },
  {
   "cell_type": "markdown",
   "id": "c8ba3d49-8844-45aa-8dcf-ba27c40668c9",
   "metadata": {},
   "source": [
    "## Build Models"
   ]
  },
  {
   "cell_type": "code",
   "execution_count": 7,
   "id": "e37868af-049d-4608-a0b2-43f42dbdd1b3",
   "metadata": {},
   "outputs": [],
   "source": [
    "def build_generator(latent_dim):\n",
    "    i = Input(shape=(latent_dim,))\n",
    "    o = Dense(256, activation=LeakyReLU(negative_slope=0.2))(i)\n",
    "    o = BatchNormalization(momentum=0.8)(o)\n",
    "    o = Dense(512, activation=LeakyReLU(negative_slope=0.2))(o)\n",
    "    o = BatchNormalization(momentum=0.8)(o)\n",
    "    o = Dense(1024, activation=LeakyReLU(negative_slope=0.2))(o)\n",
    "    o = BatchNormalization(momentum=0.8)(o)\n",
    "    o = Dense(D, activation=\"tanh\")(o) # Perchè tanh? Perchè noi stiamo usando immagini comprese tra -1 e 1, quindi dobbiamo generare valori nello stesso range\n",
    "\n",
    "    model = Model(i, o)\n",
    "    return model"
   ]
  },
  {
   "cell_type": "code",
   "execution_count": 8,
   "id": "e15a4e02-ca97-4f11-823d-d6cc6d15f2c8",
   "metadata": {},
   "outputs": [],
   "source": [
    "def build_discriminator(image_size):\n",
    "    i = Input(shape=(image_size,))\n",
    "    o = Dense(512, activation=LeakyReLU(negative_slope=0.2))(i)\n",
    "    o = Dense(256, activation=LeakyReLU(negative_slope=0.2))(o)\n",
    "    o = Dense(1, activation=\"sigmoid\")(o)\n",
    "\n",
    "    model = Model(i, o)\n",
    "    return model"
   ]
  },
  {
   "cell_type": "code",
   "execution_count": 9,
   "id": "7034cbdd-15c3-402d-9857-e5ee771676f3",
   "metadata": {},
   "outputs": [
    {
     "data": {
      "text/html": [
       "<pre style=\"white-space:pre;overflow-x:auto;line-height:normal;font-family:Menlo,'DejaVu Sans Mono',consolas,'Courier New',monospace\"><span style=\"font-weight: bold\">Model: \"functional\"</span>\n",
       "</pre>\n"
      ],
      "text/plain": [
       "\u001b[1mModel: \"functional\"\u001b[0m\n"
      ]
     },
     "metadata": {},
     "output_type": "display_data"
    },
    {
     "data": {
      "text/html": [
       "<pre style=\"white-space:pre;overflow-x:auto;line-height:normal;font-family:Menlo,'DejaVu Sans Mono',consolas,'Courier New',monospace\">┏━━━━━━━━━━━━━━━━━━━━━━━━━━━━━━━━━━━━━━┳━━━━━━━━━━━━━━━━━━━━━━━━━━━━━┳━━━━━━━━━━━━━━━━━┓\n",
       "┃<span style=\"font-weight: bold\"> Layer (type)                         </span>┃<span style=\"font-weight: bold\"> Output Shape                </span>┃<span style=\"font-weight: bold\">         Param # </span>┃\n",
       "┡━━━━━━━━━━━━━━━━━━━━━━━━━━━━━━━━━━━━━━╇━━━━━━━━━━━━━━━━━━━━━━━━━━━━━╇━━━━━━━━━━━━━━━━━┩\n",
       "│ input_layer (<span style=\"color: #0087ff; text-decoration-color: #0087ff\">InputLayer</span>)             │ (<span style=\"color: #00d7ff; text-decoration-color: #00d7ff\">None</span>, <span style=\"color: #00af00; text-decoration-color: #00af00\">784</span>)                 │               <span style=\"color: #00af00; text-decoration-color: #00af00\">0</span> │\n",
       "├──────────────────────────────────────┼─────────────────────────────┼─────────────────┤\n",
       "│ dense (<span style=\"color: #0087ff; text-decoration-color: #0087ff\">Dense</span>)                        │ (<span style=\"color: #00d7ff; text-decoration-color: #00d7ff\">None</span>, <span style=\"color: #00af00; text-decoration-color: #00af00\">512</span>)                 │         <span style=\"color: #00af00; text-decoration-color: #00af00\">401,920</span> │\n",
       "├──────────────────────────────────────┼─────────────────────────────┼─────────────────┤\n",
       "│ dense_1 (<span style=\"color: #0087ff; text-decoration-color: #0087ff\">Dense</span>)                      │ (<span style=\"color: #00d7ff; text-decoration-color: #00d7ff\">None</span>, <span style=\"color: #00af00; text-decoration-color: #00af00\">256</span>)                 │         <span style=\"color: #00af00; text-decoration-color: #00af00\">131,328</span> │\n",
       "├──────────────────────────────────────┼─────────────────────────────┼─────────────────┤\n",
       "│ dense_2 (<span style=\"color: #0087ff; text-decoration-color: #0087ff\">Dense</span>)                      │ (<span style=\"color: #00d7ff; text-decoration-color: #00d7ff\">None</span>, <span style=\"color: #00af00; text-decoration-color: #00af00\">1</span>)                   │             <span style=\"color: #00af00; text-decoration-color: #00af00\">257</span> │\n",
       "└──────────────────────────────────────┴─────────────────────────────┴─────────────────┘\n",
       "</pre>\n"
      ],
      "text/plain": [
       "┏━━━━━━━━━━━━━━━━━━━━━━━━━━━━━━━━━━━━━━┳━━━━━━━━━━━━━━━━━━━━━━━━━━━━━┳━━━━━━━━━━━━━━━━━┓\n",
       "┃\u001b[1m \u001b[0m\u001b[1mLayer (type)                        \u001b[0m\u001b[1m \u001b[0m┃\u001b[1m \u001b[0m\u001b[1mOutput Shape               \u001b[0m\u001b[1m \u001b[0m┃\u001b[1m \u001b[0m\u001b[1m        Param #\u001b[0m\u001b[1m \u001b[0m┃\n",
       "┡━━━━━━━━━━━━━━━━━━━━━━━━━━━━━━━━━━━━━━╇━━━━━━━━━━━━━━━━━━━━━━━━━━━━━╇━━━━━━━━━━━━━━━━━┩\n",
       "│ input_layer (\u001b[38;5;33mInputLayer\u001b[0m)             │ (\u001b[38;5;45mNone\u001b[0m, \u001b[38;5;34m784\u001b[0m)                 │               \u001b[38;5;34m0\u001b[0m │\n",
       "├──────────────────────────────────────┼─────────────────────────────┼─────────────────┤\n",
       "│ dense (\u001b[38;5;33mDense\u001b[0m)                        │ (\u001b[38;5;45mNone\u001b[0m, \u001b[38;5;34m512\u001b[0m)                 │         \u001b[38;5;34m401,920\u001b[0m │\n",
       "├──────────────────────────────────────┼─────────────────────────────┼─────────────────┤\n",
       "│ dense_1 (\u001b[38;5;33mDense\u001b[0m)                      │ (\u001b[38;5;45mNone\u001b[0m, \u001b[38;5;34m256\u001b[0m)                 │         \u001b[38;5;34m131,328\u001b[0m │\n",
       "├──────────────────────────────────────┼─────────────────────────────┼─────────────────┤\n",
       "│ dense_2 (\u001b[38;5;33mDense\u001b[0m)                      │ (\u001b[38;5;45mNone\u001b[0m, \u001b[38;5;34m1\u001b[0m)                   │             \u001b[38;5;34m257\u001b[0m │\n",
       "└──────────────────────────────────────┴─────────────────────────────┴─────────────────┘\n"
      ]
     },
     "metadata": {},
     "output_type": "display_data"
    },
    {
     "data": {
      "text/html": [
       "<pre style=\"white-space:pre;overflow-x:auto;line-height:normal;font-family:Menlo,'DejaVu Sans Mono',consolas,'Courier New',monospace\"><span style=\"font-weight: bold\"> Total params: </span><span style=\"color: #00af00; text-decoration-color: #00af00\">533,505</span> (2.04 MB)\n",
       "</pre>\n"
      ],
      "text/plain": [
       "\u001b[1m Total params: \u001b[0m\u001b[38;5;34m533,505\u001b[0m (2.04 MB)\n"
      ]
     },
     "metadata": {},
     "output_type": "display_data"
    },
    {
     "data": {
      "text/html": [
       "<pre style=\"white-space:pre;overflow-x:auto;line-height:normal;font-family:Menlo,'DejaVu Sans Mono',consolas,'Courier New',monospace\"><span style=\"font-weight: bold\"> Trainable params: </span><span style=\"color: #00af00; text-decoration-color: #00af00\">533,505</span> (2.04 MB)\n",
       "</pre>\n"
      ],
      "text/plain": [
       "\u001b[1m Trainable params: \u001b[0m\u001b[38;5;34m533,505\u001b[0m (2.04 MB)\n"
      ]
     },
     "metadata": {},
     "output_type": "display_data"
    },
    {
     "data": {
      "text/html": [
       "<pre style=\"white-space:pre;overflow-x:auto;line-height:normal;font-family:Menlo,'DejaVu Sans Mono',consolas,'Courier New',monospace\"><span style=\"font-weight: bold\"> Non-trainable params: </span><span style=\"color: #00af00; text-decoration-color: #00af00\">0</span> (0.00 B)\n",
       "</pre>\n"
      ],
      "text/plain": [
       "\u001b[1m Non-trainable params: \u001b[0m\u001b[38;5;34m0\u001b[0m (0.00 B)\n"
      ]
     },
     "metadata": {},
     "output_type": "display_data"
    }
   ],
   "source": [
    "discriminator = build_discriminator(D)\n",
    "discriminator.compile(\n",
    "    loss=tf.keras.losses.BinaryCrossentropy(),\n",
    "    optimizer=Adam(0.0001)\n",
    "    #metrics=[tf.keras.metrics.Accuracy()]\n",
    ")\n",
    "\n",
    "discriminator.summary()"
   ]
  },
  {
   "cell_type": "code",
   "execution_count": 10,
   "id": "f41f59f8-840f-49c8-90d9-ef70fb97e620",
   "metadata": {},
   "outputs": [],
   "source": [
    "generator = build_generator(latent_dim)\n",
    "\n",
    "generator.compile(\n",
    "    loss=tf.keras.losses.BinaryCrossentropy(),\n",
    "    optimizer=Adam(0.0001)\n",
    ")"
   ]
  },
  {
   "cell_type": "code",
   "execution_count": 11,
   "id": "75881baa-b226-4440-9c9f-f7e9a60ecb8e",
   "metadata": {},
   "outputs": [
    {
     "data": {
      "text/html": [
       "<pre style=\"white-space:pre;overflow-x:auto;line-height:normal;font-family:Menlo,'DejaVu Sans Mono',consolas,'Courier New',monospace\"><span style=\"font-weight: bold\">Model: \"functional_1\"</span>\n",
       "</pre>\n"
      ],
      "text/plain": [
       "\u001b[1mModel: \"functional_1\"\u001b[0m\n"
      ]
     },
     "metadata": {},
     "output_type": "display_data"
    },
    {
     "data": {
      "text/html": [
       "<pre style=\"white-space:pre;overflow-x:auto;line-height:normal;font-family:Menlo,'DejaVu Sans Mono',consolas,'Courier New',monospace\">┏━━━━━━━━━━━━━━━━━━━━━━━━━━━━━━━━━━━━━━┳━━━━━━━━━━━━━━━━━━━━━━━━━━━━━┳━━━━━━━━━━━━━━━━━┓\n",
       "┃<span style=\"font-weight: bold\"> Layer (type)                         </span>┃<span style=\"font-weight: bold\"> Output Shape                </span>┃<span style=\"font-weight: bold\">         Param # </span>┃\n",
       "┡━━━━━━━━━━━━━━━━━━━━━━━━━━━━━━━━━━━━━━╇━━━━━━━━━━━━━━━━━━━━━━━━━━━━━╇━━━━━━━━━━━━━━━━━┩\n",
       "│ input_layer_1 (<span style=\"color: #0087ff; text-decoration-color: #0087ff\">InputLayer</span>)           │ (<span style=\"color: #00d7ff; text-decoration-color: #00d7ff\">None</span>, <span style=\"color: #00af00; text-decoration-color: #00af00\">100</span>)                 │               <span style=\"color: #00af00; text-decoration-color: #00af00\">0</span> │\n",
       "├──────────────────────────────────────┼─────────────────────────────┼─────────────────┤\n",
       "│ dense_3 (<span style=\"color: #0087ff; text-decoration-color: #0087ff\">Dense</span>)                      │ (<span style=\"color: #00d7ff; text-decoration-color: #00d7ff\">None</span>, <span style=\"color: #00af00; text-decoration-color: #00af00\">256</span>)                 │          <span style=\"color: #00af00; text-decoration-color: #00af00\">25,856</span> │\n",
       "├──────────────────────────────────────┼─────────────────────────────┼─────────────────┤\n",
       "│ batch_normalization                  │ (<span style=\"color: #00d7ff; text-decoration-color: #00d7ff\">None</span>, <span style=\"color: #00af00; text-decoration-color: #00af00\">256</span>)                 │           <span style=\"color: #00af00; text-decoration-color: #00af00\">1,024</span> │\n",
       "│ (<span style=\"color: #0087ff; text-decoration-color: #0087ff\">BatchNormalization</span>)                 │                             │                 │\n",
       "├──────────────────────────────────────┼─────────────────────────────┼─────────────────┤\n",
       "│ dense_4 (<span style=\"color: #0087ff; text-decoration-color: #0087ff\">Dense</span>)                      │ (<span style=\"color: #00d7ff; text-decoration-color: #00d7ff\">None</span>, <span style=\"color: #00af00; text-decoration-color: #00af00\">512</span>)                 │         <span style=\"color: #00af00; text-decoration-color: #00af00\">131,584</span> │\n",
       "├──────────────────────────────────────┼─────────────────────────────┼─────────────────┤\n",
       "│ batch_normalization_1                │ (<span style=\"color: #00d7ff; text-decoration-color: #00d7ff\">None</span>, <span style=\"color: #00af00; text-decoration-color: #00af00\">512</span>)                 │           <span style=\"color: #00af00; text-decoration-color: #00af00\">2,048</span> │\n",
       "│ (<span style=\"color: #0087ff; text-decoration-color: #0087ff\">BatchNormalization</span>)                 │                             │                 │\n",
       "├──────────────────────────────────────┼─────────────────────────────┼─────────────────┤\n",
       "│ dense_5 (<span style=\"color: #0087ff; text-decoration-color: #0087ff\">Dense</span>)                      │ (<span style=\"color: #00d7ff; text-decoration-color: #00d7ff\">None</span>, <span style=\"color: #00af00; text-decoration-color: #00af00\">1024</span>)                │         <span style=\"color: #00af00; text-decoration-color: #00af00\">525,312</span> │\n",
       "├──────────────────────────────────────┼─────────────────────────────┼─────────────────┤\n",
       "│ batch_normalization_2                │ (<span style=\"color: #00d7ff; text-decoration-color: #00d7ff\">None</span>, <span style=\"color: #00af00; text-decoration-color: #00af00\">1024</span>)                │           <span style=\"color: #00af00; text-decoration-color: #00af00\">4,096</span> │\n",
       "│ (<span style=\"color: #0087ff; text-decoration-color: #0087ff\">BatchNormalization</span>)                 │                             │                 │\n",
       "├──────────────────────────────────────┼─────────────────────────────┼─────────────────┤\n",
       "│ dense_6 (<span style=\"color: #0087ff; text-decoration-color: #0087ff\">Dense</span>)                      │ (<span style=\"color: #00d7ff; text-decoration-color: #00d7ff\">None</span>, <span style=\"color: #00af00; text-decoration-color: #00af00\">784</span>)                 │         <span style=\"color: #00af00; text-decoration-color: #00af00\">803,600</span> │\n",
       "└──────────────────────────────────────┴─────────────────────────────┴─────────────────┘\n",
       "</pre>\n"
      ],
      "text/plain": [
       "┏━━━━━━━━━━━━━━━━━━━━━━━━━━━━━━━━━━━━━━┳━━━━━━━━━━━━━━━━━━━━━━━━━━━━━┳━━━━━━━━━━━━━━━━━┓\n",
       "┃\u001b[1m \u001b[0m\u001b[1mLayer (type)                        \u001b[0m\u001b[1m \u001b[0m┃\u001b[1m \u001b[0m\u001b[1mOutput Shape               \u001b[0m\u001b[1m \u001b[0m┃\u001b[1m \u001b[0m\u001b[1m        Param #\u001b[0m\u001b[1m \u001b[0m┃\n",
       "┡━━━━━━━━━━━━━━━━━━━━━━━━━━━━━━━━━━━━━━╇━━━━━━━━━━━━━━━━━━━━━━━━━━━━━╇━━━━━━━━━━━━━━━━━┩\n",
       "│ input_layer_1 (\u001b[38;5;33mInputLayer\u001b[0m)           │ (\u001b[38;5;45mNone\u001b[0m, \u001b[38;5;34m100\u001b[0m)                 │               \u001b[38;5;34m0\u001b[0m │\n",
       "├──────────────────────────────────────┼─────────────────────────────┼─────────────────┤\n",
       "│ dense_3 (\u001b[38;5;33mDense\u001b[0m)                      │ (\u001b[38;5;45mNone\u001b[0m, \u001b[38;5;34m256\u001b[0m)                 │          \u001b[38;5;34m25,856\u001b[0m │\n",
       "├──────────────────────────────────────┼─────────────────────────────┼─────────────────┤\n",
       "│ batch_normalization                  │ (\u001b[38;5;45mNone\u001b[0m, \u001b[38;5;34m256\u001b[0m)                 │           \u001b[38;5;34m1,024\u001b[0m │\n",
       "│ (\u001b[38;5;33mBatchNormalization\u001b[0m)                 │                             │                 │\n",
       "├──────────────────────────────────────┼─────────────────────────────┼─────────────────┤\n",
       "│ dense_4 (\u001b[38;5;33mDense\u001b[0m)                      │ (\u001b[38;5;45mNone\u001b[0m, \u001b[38;5;34m512\u001b[0m)                 │         \u001b[38;5;34m131,584\u001b[0m │\n",
       "├──────────────────────────────────────┼─────────────────────────────┼─────────────────┤\n",
       "│ batch_normalization_1                │ (\u001b[38;5;45mNone\u001b[0m, \u001b[38;5;34m512\u001b[0m)                 │           \u001b[38;5;34m2,048\u001b[0m │\n",
       "│ (\u001b[38;5;33mBatchNormalization\u001b[0m)                 │                             │                 │\n",
       "├──────────────────────────────────────┼─────────────────────────────┼─────────────────┤\n",
       "│ dense_5 (\u001b[38;5;33mDense\u001b[0m)                      │ (\u001b[38;5;45mNone\u001b[0m, \u001b[38;5;34m1024\u001b[0m)                │         \u001b[38;5;34m525,312\u001b[0m │\n",
       "├──────────────────────────────────────┼─────────────────────────────┼─────────────────┤\n",
       "│ batch_normalization_2                │ (\u001b[38;5;45mNone\u001b[0m, \u001b[38;5;34m1024\u001b[0m)                │           \u001b[38;5;34m4,096\u001b[0m │\n",
       "│ (\u001b[38;5;33mBatchNormalization\u001b[0m)                 │                             │                 │\n",
       "├──────────────────────────────────────┼─────────────────────────────┼─────────────────┤\n",
       "│ dense_6 (\u001b[38;5;33mDense\u001b[0m)                      │ (\u001b[38;5;45mNone\u001b[0m, \u001b[38;5;34m784\u001b[0m)                 │         \u001b[38;5;34m803,600\u001b[0m │\n",
       "└──────────────────────────────────────┴─────────────────────────────┴─────────────────┘\n"
      ]
     },
     "metadata": {},
     "output_type": "display_data"
    },
    {
     "data": {
      "text/html": [
       "<pre style=\"white-space:pre;overflow-x:auto;line-height:normal;font-family:Menlo,'DejaVu Sans Mono',consolas,'Courier New',monospace\"><span style=\"font-weight: bold\"> Total params: </span><span style=\"color: #00af00; text-decoration-color: #00af00\">1,493,520</span> (5.70 MB)\n",
       "</pre>\n"
      ],
      "text/plain": [
       "\u001b[1m Total params: \u001b[0m\u001b[38;5;34m1,493,520\u001b[0m (5.70 MB)\n"
      ]
     },
     "metadata": {},
     "output_type": "display_data"
    },
    {
     "data": {
      "text/html": [
       "<pre style=\"white-space:pre;overflow-x:auto;line-height:normal;font-family:Menlo,'DejaVu Sans Mono',consolas,'Courier New',monospace\"><span style=\"font-weight: bold\"> Trainable params: </span><span style=\"color: #00af00; text-decoration-color: #00af00\">1,489,936</span> (5.68 MB)\n",
       "</pre>\n"
      ],
      "text/plain": [
       "\u001b[1m Trainable params: \u001b[0m\u001b[38;5;34m1,489,936\u001b[0m (5.68 MB)\n"
      ]
     },
     "metadata": {},
     "output_type": "display_data"
    },
    {
     "data": {
      "text/html": [
       "<pre style=\"white-space:pre;overflow-x:auto;line-height:normal;font-family:Menlo,'DejaVu Sans Mono',consolas,'Courier New',monospace\"><span style=\"font-weight: bold\"> Non-trainable params: </span><span style=\"color: #00af00; text-decoration-color: #00af00\">3,584</span> (14.00 KB)\n",
       "</pre>\n"
      ],
      "text/plain": [
       "\u001b[1m Non-trainable params: \u001b[0m\u001b[38;5;34m3,584\u001b[0m (14.00 KB)\n"
      ]
     },
     "metadata": {},
     "output_type": "display_data"
    }
   ],
   "source": [
    "generator.summary()"
   ]
  },
  {
   "cell_type": "markdown",
   "id": "0015eb3c-e58e-4a4d-92e1-90363b26947d",
   "metadata": {},
   "source": [
    "## Train GAN"
   ]
  },
  {
   "cell_type": "code",
   "execution_count": 12,
   "id": "e1c350a4-50da-4a6f-a243-4c5abba8c3ee",
   "metadata": {},
   "outputs": [],
   "source": [
    "# confs\n",
    "batch_size = 32\n",
    "epochs = 30_000\n",
    "sample_period = 200 # Usiamo questa variabile per generare e salvare delle immagini ogni x epochs\n",
    "\n",
    "# Creiamo delle labels di dimensione \"batch_size\"\n",
    "ones = np.ones(batch_size) # Quando trainiamo il generatore (fake images) o quando trainiamo il discriminatore (real images)\n",
    "zeros = np.zeros(batch_size) # Quando trainiamo il discriminatore (fake images)\n",
    "\n",
    "# Storiamo le losses for fun\n",
    "d_losses = []\n",
    "g_losses = []\n",
    "\n",
    "# Storiamo le imagini per epoch\n",
    "if not os.path.isdir(\"results\"):\n",
    "    os.mkdir(\"results\")"
   ]
  },
  {
   "cell_type": "code",
   "execution_count": 13,
   "id": "2378c3ba-902c-4c80-a3b7-31cdb7773807",
   "metadata": {},
   "outputs": [],
   "source": [
    "# Con questa funzione campioniamo lo spazio latente per generare immagini -> le salviamo in file anche\n",
    "def sample_images(epoch):\n",
    "    rows, cols = 5, 5 \n",
    "    noise = np.random.randn(rows*cols, latent_dim) # Creiamo 25 vettori latenti, in poche parole. N x latent_dim\n",
    "    imgs = generator.predict(noise)\n",
    "\n",
    "    # riscaliamo le immagini tra 0 e 1 facendo operazioni inverse\n",
    "    imgs = imgs * 0.5 + 0.5\n",
    "\n",
    "    fig, axes = plt.subplots(rows, cols)\n",
    "    \n",
    "    for i in range(rows):\n",
    "        for j in range(cols):\n",
    "            idx = i*cols +  j\n",
    "            axes[i, j].imshow(imgs[idx].reshape(H, W), cmap=\"gray\")\n",
    "            axes[i, j].axis(\"off\")\n",
    "\n",
    "    fig.savefig(f\"results/{epoch}.png\")\n",
    "    plt.close()"
   ]
  },
  {
   "cell_type": "code",
   "execution_count": 14,
   "id": "392eb7e7-46ed-4fe1-8eda-a296cbc36231",
   "metadata": {},
   "outputs": [],
   "source": [
    "binary_crossentropy = tf.keras.losses.BinaryCrossentropy()\n",
    "accuracy = tf.keras.metrics.Accuracy()"
   ]
  },
  {
   "cell_type": "code",
   "execution_count": 15,
   "id": "ad3017d6-17dc-4c37-a2e2-88a02caf1f40",
   "metadata": {},
   "outputs": [
    {
     "name": "stdout",
     "output_type": "stream",
     "text": [
      "Epoch 1/30000 ---- Discriminator: loss -> 10.501543045043945; acc -> 0.0 ||| Generator: loss -> 8.800871849060059\n",
      "\u001b[1m1/1\u001b[0m \u001b[32m━━━━━━━━━━━━━━━━━━━━\u001b[0m\u001b[37m\u001b[0m \u001b[1m0s\u001b[0m 104ms/step\n",
      "Epoch 21/30000 ---- Discriminator: loss -> 7.920059680938721; acc -> 0.0 ||| Generator: loss -> 0.31013020873069763\n",
      "Epoch 41/30000 ---- Discriminator: loss -> 8.03734302520752; acc -> 0.0 ||| Generator: loss -> 0.06755965948104858\n",
      "Epoch 61/30000 ---- Discriminator: loss -> 8.039193153381348; acc -> 0.0 ||| Generator: loss -> 0.05352548509836197\n",
      "Epoch 81/30000 ---- Discriminator: loss -> 8.030776977539062; acc -> 0.0 ||| Generator: loss -> 0.06227416917681694\n",
      "Epoch 101/30000 ---- Discriminator: loss -> 7.948148727416992; acc -> 0.0 ||| Generator: loss -> 0.3471924662590027\n",
      "Epoch 121/30000 ---- Discriminator: loss -> 1.1413317918777466; acc -> 0.0 ||| Generator: loss -> 15.634432792663574\n",
      "Epoch 141/30000 ---- Discriminator: loss -> 0.06681187450885773; acc -> 0.0 ||| Generator: loss -> 15.90649700164795\n",
      "Epoch 161/30000 ---- Discriminator: loss -> 0.02484331652522087; acc -> 0.0 ||| Generator: loss -> 15.907585144042969\n",
      "Epoch 181/30000 ---- Discriminator: loss -> 0.17050081491470337; acc -> 0.0 ||| Generator: loss -> 15.823442459106445\n",
      "Epoch 201/30000 ---- Discriminator: loss -> 0.3942200541496277; acc -> 0.0 ||| Generator: loss -> 15.805668830871582\n",
      "\u001b[1m1/1\u001b[0m \u001b[32m━━━━━━━━━━━━━━━━━━━━\u001b[0m\u001b[37m\u001b[0m \u001b[1m0s\u001b[0m 33ms/step\n",
      "Epoch 221/30000 ---- Discriminator: loss -> 0.13388565182685852; acc -> 0.0 ||| Generator: loss -> 15.894201278686523\n",
      "Epoch 241/30000 ---- Discriminator: loss -> 0.07906568050384521; acc -> 0.0 ||| Generator: loss -> 15.894381523132324\n",
      "Epoch 261/30000 ---- Discriminator: loss -> 0.02896273322403431; acc -> 0.0 ||| Generator: loss -> 15.918448448181152\n",
      "Epoch 281/30000 ---- Discriminator: loss -> 0.019202880561351776; acc -> 0.0 ||| Generator: loss -> 15.923418045043945\n",
      "Epoch 301/30000 ---- Discriminator: loss -> 0.0072676027193665504; acc -> 0.0 ||| Generator: loss -> 15.93181037902832\n",
      "Epoch 321/30000 ---- Discriminator: loss -> 0.009404517710208893; acc -> 0.0 ||| Generator: loss -> 15.930089950561523\n",
      "Epoch 341/30000 ---- Discriminator: loss -> 0.009175634011626244; acc -> 0.0 ||| Generator: loss -> 15.93147087097168\n",
      "Epoch 361/30000 ---- Discriminator: loss -> 0.004569957964122295; acc -> 0.0 ||| Generator: loss -> 15.936281204223633\n",
      "Epoch 381/30000 ---- Discriminator: loss -> 0.005188499577343464; acc -> 0.0 ||| Generator: loss -> 15.93603515625\n",
      "Epoch 401/30000 ---- Discriminator: loss -> 0.008468905463814735; acc -> 0.0 ||| Generator: loss -> 15.930316925048828\n",
      "\u001b[1m1/1\u001b[0m \u001b[32m━━━━━━━━━━━━━━━━━━━━\u001b[0m\u001b[37m\u001b[0m \u001b[1m0s\u001b[0m 33ms/step\n",
      "Epoch 421/30000 ---- Discriminator: loss -> 0.015652131289243698; acc -> 0.0 ||| Generator: loss -> 15.928778648376465\n",
      "Epoch 441/30000 ---- Discriminator: loss -> 0.02169550210237503; acc -> 0.0 ||| Generator: loss -> 15.929337501525879\n",
      "Epoch 461/30000 ---- Discriminator: loss -> 0.019237995147705078; acc -> 0.0 ||| Generator: loss -> 15.925546646118164\n",
      "Epoch 481/30000 ---- Discriminator: loss -> 0.0609409362077713; acc -> 0.0 ||| Generator: loss -> 15.92636775970459\n",
      "Epoch 501/30000 ---- Discriminator: loss -> 0.06951464712619781; acc -> 0.0 ||| Generator: loss -> 15.913888931274414\n",
      "Epoch 521/30000 ---- Discriminator: loss -> 0.04681126028299332; acc -> 0.0 ||| Generator: loss -> 15.920234680175781\n",
      "Epoch 541/30000 ---- Discriminator: loss -> 0.224476158618927; acc -> 0.0 ||| Generator: loss -> 15.877874374389648\n",
      "Epoch 561/30000 ---- Discriminator: loss -> 1.3380229473114014; acc -> 0.0 ||| Generator: loss -> 15.782159805297852\n",
      "Epoch 581/30000 ---- Discriminator: loss -> 8.319058418273926; acc -> 0.0 ||| Generator: loss -> 0.00016468894318677485\n",
      "Epoch 601/30000 ---- Discriminator: loss -> 8.05904769897461; acc -> 0.012011230923235416 ||| Generator: loss -> 2.973793300498073e-07\n",
      "\u001b[1m1/1\u001b[0m \u001b[32m━━━━━━━━━━━━━━━━━━━━\u001b[0m\u001b[37m\u001b[0m \u001b[1m0s\u001b[0m 36ms/step\n",
      "Epoch 621/30000 ---- Discriminator: loss -> 8.05904769897461; acc -> 0.027526168152689934 ||| Generator: loss -> 1.1920930376163597e-07\n",
      "Epoch 641/30000 ---- Discriminator: loss -> 8.05904769897461; acc -> 0.042097307741642 ||| Generator: loss -> 1.6375182099181984e-07\n",
      "Epoch 661/30000 ---- Discriminator: loss -> 8.05904769897461; acc -> 0.05585760250687599 ||| Generator: loss -> 1.1920930376163597e-07\n",
      "Epoch 681/30000 ---- Discriminator: loss -> 8.05904769897461; acc -> 0.06885554641485214 ||| Generator: loss -> 1.1920930376163597e-07\n",
      "Epoch 701/30000 ---- Discriminator: loss -> 8.05904769897461; acc -> 0.08102264255285263 ||| Generator: loss -> 2.2314182501759205e-07\n",
      "Epoch 721/30000 ---- Discriminator: loss -> 8.05904769897461; acc -> 0.09251473844051361 ||| Generator: loss -> 1.489043199853768e-07\n",
      "Epoch 741/30000 ---- Discriminator: loss -> 8.05904769897461; acc -> 0.1034708172082901 ||| Generator: loss -> 1.489043199853768e-07\n",
      "Epoch 761/30000 ---- Discriminator: loss -> 8.05904769897461; acc -> 0.11380995064973831 ||| Generator: loss -> 1.3405680476807902e-07\n",
      "Epoch 781/30000 ---- Discriminator: loss -> 8.05904769897461; acc -> 0.12359955161809921 ||| Generator: loss -> 1.1920930376163597e-07\n",
      "Epoch 801/30000 ---- Discriminator: loss -> 8.05904769897461; acc -> 0.1329197883605957 ||| Generator: loss -> 1.489043199853768e-07\n",
      "\u001b[1m1/1\u001b[0m \u001b[32m━━━━━━━━━━━━━━━━━━━━\u001b[0m\u001b[37m\u001b[0m \u001b[1m0s\u001b[0m 42ms/step\n",
      "Epoch 821/30000 ---- Discriminator: loss -> 8.05904769897461; acc -> 0.1417478621006012 ||| Generator: loss -> 2.379893260240351e-07\n",
      "Epoch 841/30000 ---- Discriminator: loss -> 8.05904769897461; acc -> 0.15013748407363892 ||| Generator: loss -> 1.1920930376163597e-07\n",
      "Epoch 861/30000 ---- Discriminator: loss -> 8.05904769897461; acc -> 0.1582280844449997 ||| Generator: loss -> 1.1920930376163597e-07\n",
      "Epoch 881/30000 ---- Discriminator: loss -> 8.05904769897461; acc -> 0.16586264967918396 ||| Generator: loss -> 1.785993219982629e-07\n",
      "Epoch 901/30000 ---- Discriminator: loss -> 8.05904769897461; acc -> 0.17324501276016235 ||| Generator: loss -> 1.1920930376163597e-07\n",
      "Epoch 921/30000 ---- Discriminator: loss -> 8.05904769897461; acc -> 0.18027280271053314 ||| Generator: loss -> 1.6375182099181984e-07\n",
      "Epoch 941/30000 ---- Discriminator: loss -> 8.05904769897461; acc -> 0.1870184689760208 ||| Generator: loss -> 1.1920930376163597e-07\n",
      "Epoch 961/30000 ---- Discriminator: loss -> 8.05904769897461; acc -> 0.19343456625938416 ||| Generator: loss -> 2.08294324011149e-07\n",
      "Epoch 981/30000 ---- Discriminator: loss -> 8.05904769897461; acc -> 0.19960498809814453 ||| Generator: loss -> 1.1920930376163597e-07\n",
      "Epoch 1001/30000 ---- Discriminator: loss -> 8.05904769897461; acc -> 0.20554445683956146 ||| Generator: loss -> 1.1920930376163597e-07\n",
      "\u001b[1m1/1\u001b[0m \u001b[32m━━━━━━━━━━━━━━━━━━━━\u001b[0m\u001b[37m\u001b[0m \u001b[1m0s\u001b[0m 44ms/step\n",
      "Epoch 1021/30000 ---- Discriminator: loss -> 8.05904769897461; acc -> 0.21120531857013702 ||| Generator: loss -> 1.1920930376163597e-07\n",
      "Epoch 1041/30000 ---- Discriminator: loss -> 8.05904769897461; acc -> 0.2166486531496048 ||| Generator: loss -> 1.3405681897893373e-07\n",
      "Epoch 1061/30000 ---- Discriminator: loss -> 8.05904769897461; acc -> 0.22185732424259186 ||| Generator: loss -> 1.3405681897893373e-07\n",
      "Epoch 1081/30000 ---- Discriminator: loss -> 8.05904769897461; acc -> 0.22694553434848785 ||| Generator: loss -> 1.489043199853768e-07\n",
      "Epoch 1101/30000 ---- Discriminator: loss -> 8.05904769897461; acc -> 0.23183469474315643 ||| Generator: loss -> 1.1920930376163597e-07\n",
      "Epoch 1121/30000 ---- Discriminator: loss -> 8.05904769897461; acc -> 0.2365354597568512 ||| Generator: loss -> 2.08294324011149e-07\n",
      "Epoch 1141/30000 ---- Discriminator: loss -> 8.05904769897461; acc -> 0.2410440444946289 ||| Generator: loss -> 1.1920930376163597e-07\n",
      "Epoch 1161/30000 ---- Discriminator: loss -> 8.05904769897461; acc -> 0.24543766677379608 ||| Generator: loss -> 1.3405680476807902e-07\n",
      "Epoch 1181/30000 ---- Discriminator: loss -> 8.059049606323242; acc -> 0.24962955713272095 ||| Generator: loss -> 1.489043199853768e-07\n",
      "Epoch 1201/30000 ---- Discriminator: loss -> 8.05904769897461; acc -> 0.2537468671798706 ||| Generator: loss -> 1.785993219982629e-07\n",
      "\u001b[1m1/1\u001b[0m \u001b[32m━━━━━━━━━━━━━━━━━━━━\u001b[0m\u001b[37m\u001b[0m \u001b[1m0s\u001b[0m 30ms/step\n",
      "Epoch 1221/30000 ---- Discriminator: loss -> 8.05904769897461; acc -> 0.257754921913147 ||| Generator: loss -> 1.1920930376163597e-07\n",
      "Epoch 1241/30000 ---- Discriminator: loss -> 8.05904769897461; acc -> 0.2616337537765503 ||| Generator: loss -> 1.489043199853768e-07\n",
      "Epoch 1261/30000 ---- Discriminator: loss -> 8.05904769897461; acc -> 0.26536479592323303 ||| Generator: loss -> 2.08294324011149e-07\n",
      "Epoch 1281/30000 ---- Discriminator: loss -> 8.05904769897461; acc -> 0.26899150013923645 ||| Generator: loss -> 1.4890430577452207e-07\n",
      "Epoch 1301/30000 ---- Discriminator: loss -> 8.05904769897461; acc -> 0.272482693195343 ||| Generator: loss -> 1.1920930376163597e-07\n",
      "Epoch 1321/30000 ---- Discriminator: loss -> 8.05904769897461; acc -> 0.275844544172287 ||| Generator: loss -> 1.6375182099181984e-07\n",
      "Epoch 1341/30000 ---- Discriminator: loss -> 8.05904769897461; acc -> 0.27912938594818115 ||| Generator: loss -> 1.785993219982629e-07\n",
      "Epoch 1361/30000 ---- Discriminator: loss -> 8.05904769897461; acc -> 0.28235211968421936 ||| Generator: loss -> 1.1920930376163597e-07\n",
      "Epoch 1381/30000 ---- Discriminator: loss -> 8.05904769897461; acc -> 0.28545889258384705 ||| Generator: loss -> 1.3405680476807902e-07\n",
      "Epoch 1401/30000 ---- Discriminator: loss -> 8.05904769897461; acc -> 0.28846582770347595 ||| Generator: loss -> 1.4890430577452207e-07\n",
      "\u001b[1m1/1\u001b[0m \u001b[32m━━━━━━━━━━━━━━━━━━━━\u001b[0m\u001b[37m\u001b[0m \u001b[1m0s\u001b[0m 33ms/step\n",
      "Epoch 1421/30000 ---- Discriminator: loss -> 8.059049606323242; acc -> 0.2913880944252014 ||| Generator: loss -> 1.6375182099181984e-07\n",
      "Epoch 1441/30000 ---- Discriminator: loss -> 8.05904769897461; acc -> 0.29426178336143494 ||| Generator: loss -> 1.1920930376163597e-07\n",
      "Epoch 1461/30000 ---- Discriminator: loss -> 8.05904769897461; acc -> 0.29705682396888733 ||| Generator: loss -> 1.1920930376163597e-07\n",
      "Epoch 1481/30000 ---- Discriminator: loss -> 8.05904769897461; acc -> 0.29974469542503357 ||| Generator: loss -> 1.3405681897893373e-07\n",
      "Epoch 1501/30000 ---- Discriminator: loss -> 8.05904769897461; acc -> 0.3023921549320221 ||| Generator: loss -> 1.1920930376163597e-07\n",
      "Epoch 1521/30000 ---- Discriminator: loss -> 8.05904769897461; acc -> 0.3048878312110901 ||| Generator: loss -> 1.1920930376163597e-07\n",
      "Epoch 1541/30000 ---- Discriminator: loss -> 8.05904769897461; acc -> 0.30731871724128723 ||| Generator: loss -> 1.4890430577452207e-07\n",
      "Epoch 1561/30000 ---- Discriminator: loss -> 8.05904769897461; acc -> 0.30973735451698303 ||| Generator: loss -> 2.5283682703047816e-07\n",
      "Epoch 1581/30000 ---- Discriminator: loss -> 8.05904769897461; acc -> 0.3120948076248169 ||| Generator: loss -> 1.1920930376163597e-07\n",
      "Epoch 1601/30000 ---- Discriminator: loss -> 8.05904769897461; acc -> 0.31436407566070557 ||| Generator: loss -> 1.489043199853768e-07\n",
      "\u001b[1m1/1\u001b[0m \u001b[32m━━━━━━━━━━━━━━━━━━━━\u001b[0m\u001b[37m\u001b[0m \u001b[1m0s\u001b[0m 35ms/step\n",
      "Epoch 1621/30000 ---- Discriminator: loss -> 8.05904769897461; acc -> 0.3166062533855438 ||| Generator: loss -> 1.3405680476807902e-07\n",
      "Epoch 1641/30000 ---- Discriminator: loss -> 8.05904769897461; acc -> 0.3187747597694397 ||| Generator: loss -> 2.08294324011149e-07\n",
      "Epoch 1661/30000 ---- Discriminator: loss -> 8.05904769897461; acc -> 0.32090985774993896 ||| Generator: loss -> 1.3405680476807902e-07\n",
      "Epoch 1681/30000 ---- Discriminator: loss -> 8.05904769897461; acc -> 0.32298484444618225 ||| Generator: loss -> 1.785993219982629e-07\n",
      "Epoch 1701/30000 ---- Discriminator: loss -> 8.05904769897461; acc -> 0.3250477612018585 ||| Generator: loss -> 1.3405680476807902e-07\n",
      "Epoch 1721/30000 ---- Discriminator: loss -> 8.05904769897461; acc -> 0.32704460620880127 ||| Generator: loss -> 1.1920930376163597e-07\n",
      "Epoch 1741/30000 ---- Discriminator: loss -> 8.05904769897461; acc -> 0.32898658514022827 ||| Generator: loss -> 1.3405681897893373e-07\n",
      "Epoch 1761/30000 ---- Discriminator: loss -> 8.05904769897461; acc -> 0.33089330792427063 ||| Generator: loss -> 1.3405680476807902e-07\n",
      "Epoch 1781/30000 ---- Discriminator: loss -> 8.05904769897461; acc -> 0.3327396810054779 ||| Generator: loss -> 1.785993219982629e-07\n",
      "Epoch 1801/30000 ---- Discriminator: loss -> 8.059051513671875; acc -> 0.33451035618782043 ||| Generator: loss -> 1.3405681897893373e-07\n",
      "\u001b[1m1/1\u001b[0m \u001b[32m━━━━━━━━━━━━━━━━━━━━\u001b[0m\u001b[37m\u001b[0m \u001b[1m0s\u001b[0m 33ms/step\n",
      "Epoch 1821/30000 ---- Discriminator: loss -> 8.05904769897461; acc -> 0.3362849950790405 ||| Generator: loss -> 1.1920930376163597e-07\n",
      "Epoch 1841/30000 ---- Discriminator: loss -> 8.05904769897461; acc -> 0.3380380868911743 ||| Generator: loss -> 1.1920930376163597e-07\n",
      "Epoch 1861/30000 ---- Discriminator: loss -> 8.05904769897461; acc -> 0.33969470858573914 ||| Generator: loss -> 1.6375182099181984e-07\n",
      "Epoch 1881/30000 ---- Discriminator: loss -> 8.05904769897461; acc -> 0.3413410484790802 ||| Generator: loss -> 1.1920930376163597e-07\n",
      "Epoch 1901/30000 ---- Discriminator: loss -> 8.05904769897461; acc -> 0.34296914935112 ||| Generator: loss -> 1.3405681897893373e-07\n",
      "Epoch 1921/30000 ---- Discriminator: loss -> 8.05904769897461; acc -> 0.34457963705062866 ||| Generator: loss -> 1.3405681897893373e-07\n",
      "Epoch 1941/30000 ---- Discriminator: loss -> 8.05904769897461; acc -> 0.3461650013923645 ||| Generator: loss -> 1.1920930376163597e-07\n",
      "Epoch 1961/30000 ---- Discriminator: loss -> 8.05904769897461; acc -> 0.3477100431919098 ||| Generator: loss -> 1.6375182099181984e-07\n",
      "Epoch 1981/30000 ---- Discriminator: loss -> 8.05904769897461; acc -> 0.34922388195991516 ||| Generator: loss -> 1.6375182099181984e-07\n"
     ]
    },
    {
     "ename": "KeyboardInterrupt",
     "evalue": "",
     "output_type": "error",
     "traceback": [
      "\u001b[1;31m---------------------------------------------------------------------------\u001b[0m",
      "\u001b[1;31mKeyboardInterrupt\u001b[0m                         Traceback (most recent call last)",
      "Cell \u001b[1;32mIn[15], line 14\u001b[0m\n\u001b[0;32m     12\u001b[0m \u001b[38;5;66;03m# Immagini Fake\u001b[39;00m\n\u001b[0;32m     13\u001b[0m noise \u001b[38;5;241m=\u001b[39m np\u001b[38;5;241m.\u001b[39mrandom\u001b[38;5;241m.\u001b[39mrandn(batch_size, latent_dim)\n\u001b[1;32m---> 14\u001b[0m fake_images \u001b[38;5;241m=\u001b[39m \u001b[43mgenerator\u001b[49m\u001b[38;5;241;43m.\u001b[39;49m\u001b[43mpredict\u001b[49m\u001b[43m(\u001b[49m\u001b[43mnoise\u001b[49m\u001b[43m,\u001b[49m\u001b[43m \u001b[49m\u001b[43mverbose\u001b[49m\u001b[38;5;241;43m=\u001b[39;49m\u001b[38;5;28;43;01mFalse\u001b[39;49;00m\u001b[43m)\u001b[49m\n\u001b[0;32m     16\u001b[0m concat_images \u001b[38;5;241m=\u001b[39m ops\u001b[38;5;241m.\u001b[39mconcatenate([real_images, fake_images], axis\u001b[38;5;241m=\u001b[39m\u001b[38;5;241m0\u001b[39m)\n\u001b[0;32m     17\u001b[0m concat_labels \u001b[38;5;241m=\u001b[39m ops\u001b[38;5;241m.\u001b[39mconcatenate([ones, zeros], axis\u001b[38;5;241m=\u001b[39m\u001b[38;5;241m0\u001b[39m)\n",
      "File \u001b[1;32m~\\AppData\\Local\\Programs\\Python\\Python312\\Lib\\site-packages\\keras\\src\\utils\\traceback_utils.py:117\u001b[0m, in \u001b[0;36mfilter_traceback.<locals>.error_handler\u001b[1;34m(*args, **kwargs)\u001b[0m\n\u001b[0;32m    115\u001b[0m filtered_tb \u001b[38;5;241m=\u001b[39m \u001b[38;5;28;01mNone\u001b[39;00m\n\u001b[0;32m    116\u001b[0m \u001b[38;5;28;01mtry\u001b[39;00m:\n\u001b[1;32m--> 117\u001b[0m     \u001b[38;5;28;01mreturn\u001b[39;00m \u001b[43mfn\u001b[49m\u001b[43m(\u001b[49m\u001b[38;5;241;43m*\u001b[39;49m\u001b[43margs\u001b[49m\u001b[43m,\u001b[49m\u001b[43m \u001b[49m\u001b[38;5;241;43m*\u001b[39;49m\u001b[38;5;241;43m*\u001b[39;49m\u001b[43mkwargs\u001b[49m\u001b[43m)\u001b[49m\n\u001b[0;32m    118\u001b[0m \u001b[38;5;28;01mexcept\u001b[39;00m \u001b[38;5;167;01mException\u001b[39;00m \u001b[38;5;28;01mas\u001b[39;00m e:\n\u001b[0;32m    119\u001b[0m     filtered_tb \u001b[38;5;241m=\u001b[39m _process_traceback_frames(e\u001b[38;5;241m.\u001b[39m__traceback__)\n",
      "File \u001b[1;32m~\\AppData\\Local\\Programs\\Python\\Python312\\Lib\\site-packages\\keras\\src\\backend\\tensorflow\\trainer.py:497\u001b[0m, in \u001b[0;36mTensorFlowTrainer.predict\u001b[1;34m(self, x, batch_size, verbose, steps, callbacks)\u001b[0m\n\u001b[0;32m    492\u001b[0m \u001b[38;5;129m@traceback_utils\u001b[39m\u001b[38;5;241m.\u001b[39mfilter_traceback\n\u001b[0;32m    493\u001b[0m \u001b[38;5;28;01mdef\u001b[39;00m \u001b[38;5;21mpredict\u001b[39m(\n\u001b[0;32m    494\u001b[0m     \u001b[38;5;28mself\u001b[39m, x, batch_size\u001b[38;5;241m=\u001b[39m\u001b[38;5;28;01mNone\u001b[39;00m, verbose\u001b[38;5;241m=\u001b[39m\u001b[38;5;124m\"\u001b[39m\u001b[38;5;124mauto\u001b[39m\u001b[38;5;124m\"\u001b[39m, steps\u001b[38;5;241m=\u001b[39m\u001b[38;5;28;01mNone\u001b[39;00m, callbacks\u001b[38;5;241m=\u001b[39m\u001b[38;5;28;01mNone\u001b[39;00m\n\u001b[0;32m    495\u001b[0m ):\n\u001b[0;32m    496\u001b[0m     \u001b[38;5;66;03m# Create an iterator that yields batches of input data.\u001b[39;00m\n\u001b[1;32m--> 497\u001b[0m     epoch_iterator \u001b[38;5;241m=\u001b[39m \u001b[43mTFEpochIterator\u001b[49m\u001b[43m(\u001b[49m\n\u001b[0;32m    498\u001b[0m \u001b[43m        \u001b[49m\u001b[43mx\u001b[49m\u001b[38;5;241;43m=\u001b[39;49m\u001b[43mx\u001b[49m\u001b[43m,\u001b[49m\n\u001b[0;32m    499\u001b[0m \u001b[43m        \u001b[49m\u001b[43mbatch_size\u001b[49m\u001b[38;5;241;43m=\u001b[39;49m\u001b[43mbatch_size\u001b[49m\u001b[43m,\u001b[49m\n\u001b[0;32m    500\u001b[0m \u001b[43m        \u001b[49m\u001b[43msteps_per_epoch\u001b[49m\u001b[38;5;241;43m=\u001b[39;49m\u001b[43msteps\u001b[49m\u001b[43m,\u001b[49m\n\u001b[0;32m    501\u001b[0m \u001b[43m        \u001b[49m\u001b[43mshuffle\u001b[49m\u001b[38;5;241;43m=\u001b[39;49m\u001b[38;5;28;43;01mFalse\u001b[39;49;00m\u001b[43m,\u001b[49m\n\u001b[0;32m    502\u001b[0m \u001b[43m        \u001b[49m\u001b[43mdistribute_strategy\u001b[49m\u001b[38;5;241;43m=\u001b[39;49m\u001b[38;5;28;43mself\u001b[39;49m\u001b[38;5;241;43m.\u001b[39;49m\u001b[43mdistribute_strategy\u001b[49m\u001b[43m,\u001b[49m\n\u001b[0;32m    503\u001b[0m \u001b[43m        \u001b[49m\u001b[43msteps_per_execution\u001b[49m\u001b[38;5;241;43m=\u001b[39;49m\u001b[38;5;28;43mself\u001b[39;49m\u001b[38;5;241;43m.\u001b[39;49m\u001b[43msteps_per_execution\u001b[49m\u001b[43m,\u001b[49m\n\u001b[0;32m    504\u001b[0m \u001b[43m    \u001b[49m\u001b[43m)\u001b[49m\n\u001b[0;32m    506\u001b[0m     \u001b[38;5;66;03m# Container that configures and calls callbacks.\u001b[39;00m\n\u001b[0;32m    507\u001b[0m     \u001b[38;5;28;01mif\u001b[39;00m \u001b[38;5;129;01mnot\u001b[39;00m \u001b[38;5;28misinstance\u001b[39m(callbacks, callbacks_module\u001b[38;5;241m.\u001b[39mCallbackList):\n",
      "File \u001b[1;32m~\\AppData\\Local\\Programs\\Python\\Python312\\Lib\\site-packages\\keras\\src\\backend\\tensorflow\\trainer.py:715\u001b[0m, in \u001b[0;36mTFEpochIterator.__init__\u001b[1;34m(self, distribute_strategy, *args, **kwargs)\u001b[0m\n\u001b[0;32m    713\u001b[0m \u001b[38;5;28msuper\u001b[39m()\u001b[38;5;241m.\u001b[39m\u001b[38;5;21m__init__\u001b[39m(\u001b[38;5;241m*\u001b[39margs, \u001b[38;5;241m*\u001b[39m\u001b[38;5;241m*\u001b[39mkwargs)\n\u001b[0;32m    714\u001b[0m \u001b[38;5;28mself\u001b[39m\u001b[38;5;241m.\u001b[39m_distribute_strategy \u001b[38;5;241m=\u001b[39m distribute_strategy\n\u001b[1;32m--> 715\u001b[0m dataset \u001b[38;5;241m=\u001b[39m \u001b[38;5;28;43mself\u001b[39;49m\u001b[38;5;241;43m.\u001b[39;49m\u001b[43mdata_adapter\u001b[49m\u001b[38;5;241;43m.\u001b[39;49m\u001b[43mget_tf_dataset\u001b[49m\u001b[43m(\u001b[49m\u001b[43m)\u001b[49m\n\u001b[0;32m    716\u001b[0m \u001b[38;5;28;01mif\u001b[39;00m \u001b[38;5;129;01mnot\u001b[39;00m \u001b[38;5;28misinstance\u001b[39m(dataset, tf\u001b[38;5;241m.\u001b[39mdistribute\u001b[38;5;241m.\u001b[39mDistributedDataset):\n\u001b[0;32m    717\u001b[0m     dataset \u001b[38;5;241m=\u001b[39m \u001b[38;5;28mself\u001b[39m\u001b[38;5;241m.\u001b[39m_distribute_strategy\u001b[38;5;241m.\u001b[39mexperimental_distribute_dataset(\n\u001b[0;32m    718\u001b[0m         dataset\n\u001b[0;32m    719\u001b[0m     )\n",
      "File \u001b[1;32m~\\AppData\\Local\\Programs\\Python\\Python312\\Lib\\site-packages\\keras\\src\\trainers\\data_adapters\\array_data_adapter.py:140\u001b[0m, in \u001b[0;36mArrayDataAdapter.get_tf_dataset\u001b[1;34m(self)\u001b[0m\n\u001b[0;32m    133\u001b[0m     \u001b[38;5;28;01mreturn\u001b[39;00m indices\n\u001b[0;32m    135\u001b[0m \u001b[38;5;66;03m# We prefetch a single element. Computing large permutations can take\u001b[39;00m\n\u001b[0;32m    136\u001b[0m \u001b[38;5;66;03m# quite a while so we don't want to wait for prefetching over an epoch\u001b[39;00m\n\u001b[0;32m    137\u001b[0m \u001b[38;5;66;03m# boundary to trigger the next permutation. On the other hand, too many\u001b[39;00m\n\u001b[0;32m    138\u001b[0m \u001b[38;5;66;03m# simultaneous shuffles can contend on a hardware level and degrade all\u001b[39;00m\n\u001b[0;32m    139\u001b[0m \u001b[38;5;66;03m# performance.\u001b[39;00m\n\u001b[1;32m--> 140\u001b[0m indices_dataset \u001b[38;5;241m=\u001b[39m \u001b[43mindices_dataset\u001b[49m\u001b[38;5;241;43m.\u001b[39;49m\u001b[43mmap\u001b[49m\u001b[43m(\u001b[49m\u001b[43mpermutation\u001b[49m\u001b[43m)\u001b[49m\u001b[38;5;241;43m.\u001b[39;49m\u001b[43mprefetch\u001b[49m\u001b[43m(\u001b[49m\u001b[38;5;241;43m1\u001b[39;49m\u001b[43m)\u001b[49m\n\u001b[0;32m    142\u001b[0m \u001b[38;5;28;01mdef\u001b[39;00m \u001b[38;5;21mslice_batch_indices\u001b[39m(indices):\n\u001b[0;32m    143\u001b[0m \u001b[38;5;250m    \u001b[39m\u001b[38;5;124;03m\"\"\"Convert a Tensor of indices into a dataset of batched indices.\u001b[39;00m\n\u001b[0;32m    144\u001b[0m \n\u001b[0;32m    145\u001b[0m \u001b[38;5;124;03m    This step can be accomplished in several ways. The most natural is\u001b[39;00m\n\u001b[1;32m   (...)\u001b[0m\n\u001b[0;32m    157\u001b[0m \u001b[38;5;124;03m        A Dataset of batched indices.\u001b[39;00m\n\u001b[0;32m    158\u001b[0m \u001b[38;5;124;03m    \"\"\"\u001b[39;00m\n",
      "File \u001b[1;32m~\\AppData\\Local\\Programs\\Python\\Python312\\Lib\\site-packages\\tensorflow\\python\\data\\ops\\dataset_ops.py:1268\u001b[0m, in \u001b[0;36mDatasetV2.prefetch\u001b[1;34m(self, buffer_size, name)\u001b[0m\n\u001b[0;32m   1240\u001b[0m \u001b[38;5;28;01mdef\u001b[39;00m \u001b[38;5;21mprefetch\u001b[39m(\u001b[38;5;28mself\u001b[39m, buffer_size, name\u001b[38;5;241m=\u001b[39m\u001b[38;5;28;01mNone\u001b[39;00m) \u001b[38;5;241m-\u001b[39m\u001b[38;5;241m>\u001b[39m \u001b[38;5;124m\"\u001b[39m\u001b[38;5;124mDatasetV2\u001b[39m\u001b[38;5;124m\"\u001b[39m:\n\u001b[0;32m   1241\u001b[0m \u001b[38;5;250m  \u001b[39m\u001b[38;5;124;03m\"\"\"Creates a `Dataset` that prefetches elements from this dataset.\u001b[39;00m\n\u001b[0;32m   1242\u001b[0m \n\u001b[0;32m   1243\u001b[0m \u001b[38;5;124;03m  Most dataset input pipelines should end with a call to `prefetch`. This\u001b[39;00m\n\u001b[1;32m   (...)\u001b[0m\n\u001b[0;32m   1266\u001b[0m \u001b[38;5;124;03m    A new `Dataset` with the transformation applied as described above.\u001b[39;00m\n\u001b[0;32m   1267\u001b[0m \u001b[38;5;124;03m  \"\"\"\u001b[39;00m\n\u001b[1;32m-> 1268\u001b[0m   \u001b[38;5;28;01mreturn\u001b[39;00m \u001b[43mprefetch_op\u001b[49m\u001b[38;5;241;43m.\u001b[39;49m\u001b[43m_prefetch\u001b[49m\u001b[43m(\u001b[49m\u001b[43m  \u001b[49m\u001b[38;5;66;43;03m# pylint: disable=protected-access\u001b[39;49;00m\n\u001b[0;32m   1269\u001b[0m \u001b[43m      \u001b[49m\u001b[38;5;28;43mself\u001b[39;49m\u001b[43m,\u001b[49m\u001b[43m \u001b[49m\u001b[43mbuffer_size\u001b[49m\u001b[43m,\u001b[49m\u001b[43m \u001b[49m\u001b[43mname\u001b[49m\u001b[38;5;241;43m=\u001b[39;49m\u001b[43mname\u001b[49m\u001b[43m)\u001b[49m\n",
      "File \u001b[1;32m~\\AppData\\Local\\Programs\\Python\\Python312\\Lib\\site-packages\\tensorflow\\python\\data\\ops\\prefetch_op.py:28\u001b[0m, in \u001b[0;36m_prefetch\u001b[1;34m(input_dataset, buffer_size, name)\u001b[0m\n\u001b[0;32m     26\u001b[0m \u001b[38;5;28;01mif\u001b[39;00m debug_mode\u001b[38;5;241m.\u001b[39mDEBUG_MODE:\n\u001b[0;32m     27\u001b[0m   \u001b[38;5;28;01mreturn\u001b[39;00m input_dataset\n\u001b[1;32m---> 28\u001b[0m \u001b[38;5;28;01mreturn\u001b[39;00m \u001b[43m_PrefetchDataset\u001b[49m\u001b[43m(\u001b[49m\u001b[43minput_dataset\u001b[49m\u001b[43m,\u001b[49m\u001b[43m \u001b[49m\u001b[43mbuffer_size\u001b[49m\u001b[43m,\u001b[49m\u001b[43m \u001b[49m\u001b[43mname\u001b[49m\u001b[38;5;241;43m=\u001b[39;49m\u001b[43mname\u001b[49m\u001b[43m)\u001b[49m\n",
      "File \u001b[1;32m~\\AppData\\Local\\Programs\\Python\\Python312\\Lib\\site-packages\\tensorflow\\python\\data\\ops\\prefetch_op.py:46\u001b[0m, in \u001b[0;36m_PrefetchDataset.__init__\u001b[1;34m(self, input_dataset, buffer_size, slack_period, name)\u001b[0m\n\u001b[0;32m     42\u001b[0m \u001b[38;5;66;03m# pylint: disable=protected-access\u001b[39;00m\n\u001b[0;32m     43\u001b[0m \u001b[38;5;66;03m# We colocate the prefetch dataset with its input as this collocation only\u001b[39;00m\n\u001b[0;32m     44\u001b[0m \u001b[38;5;66;03m# happens automatically in graph mode.\u001b[39;00m\n\u001b[0;32m     45\u001b[0m \u001b[38;5;28;01mwith\u001b[39;00m ops\u001b[38;5;241m.\u001b[39mcolocate_with(input_dataset\u001b[38;5;241m.\u001b[39m_variant_tensor):\n\u001b[1;32m---> 46\u001b[0m   variant_tensor \u001b[38;5;241m=\u001b[39m \u001b[43mgen_dataset_ops\u001b[49m\u001b[38;5;241;43m.\u001b[39;49m\u001b[43mprefetch_dataset\u001b[49m\u001b[43m(\u001b[49m\n\u001b[0;32m     47\u001b[0m \u001b[43m      \u001b[49m\u001b[43minput_dataset\u001b[49m\u001b[38;5;241;43m.\u001b[39;49m\u001b[43m_variant_tensor\u001b[49m\u001b[43m,\u001b[49m\n\u001b[0;32m     48\u001b[0m \u001b[43m      \u001b[49m\u001b[43mbuffer_size\u001b[49m\u001b[38;5;241;43m=\u001b[39;49m\u001b[38;5;28;43mself\u001b[39;49m\u001b[38;5;241;43m.\u001b[39;49m\u001b[43m_buffer_size\u001b[49m\u001b[43m,\u001b[49m\n\u001b[0;32m     49\u001b[0m \u001b[43m      \u001b[49m\u001b[43mslack_period\u001b[49m\u001b[38;5;241;43m=\u001b[39;49m\u001b[43mslack_period\u001b[49m\u001b[43m,\u001b[49m\n\u001b[0;32m     50\u001b[0m \u001b[43m      \u001b[49m\u001b[43mlegacy_autotune\u001b[49m\u001b[38;5;241;43m=\u001b[39;49m\u001b[43m(\u001b[49m\u001b[43mbuffer_size\u001b[49m\u001b[43m \u001b[49m\u001b[38;5;241;43m==\u001b[39;49m\u001b[43m \u001b[49m\u001b[43mdataset_ops\u001b[49m\u001b[38;5;241;43m.\u001b[39;49m\u001b[43mAUTOTUNE\u001b[49m\u001b[43m)\u001b[49m\u001b[43m,\u001b[49m\n\u001b[0;32m     51\u001b[0m \u001b[43m      \u001b[49m\u001b[38;5;241;43m*\u001b[39;49m\u001b[38;5;241;43m*\u001b[39;49m\u001b[38;5;28;43mself\u001b[39;49m\u001b[38;5;241;43m.\u001b[39;49m\u001b[43m_common_args\u001b[49m\u001b[43m)\u001b[49m\n\u001b[0;32m     52\u001b[0m \u001b[38;5;28msuper\u001b[39m()\u001b[38;5;241m.\u001b[39m\u001b[38;5;21m__init__\u001b[39m(input_dataset, variant_tensor)\n",
      "File \u001b[1;32m~\\AppData\\Local\\Programs\\Python\\Python312\\Lib\\site-packages\\tensorflow\\python\\ops\\gen_dataset_ops.py:6177\u001b[0m, in \u001b[0;36mprefetch_dataset\u001b[1;34m(input_dataset, buffer_size, output_types, output_shapes, slack_period, legacy_autotune, buffer_size_min, metadata, name)\u001b[0m\n\u001b[0;32m   6175\u001b[0m \u001b[38;5;28;01mif\u001b[39;00m tld\u001b[38;5;241m.\u001b[39mis_eager:\n\u001b[0;32m   6176\u001b[0m   \u001b[38;5;28;01mtry\u001b[39;00m:\n\u001b[1;32m-> 6177\u001b[0m     _result \u001b[38;5;241m=\u001b[39m \u001b[43mpywrap_tfe\u001b[49m\u001b[38;5;241;43m.\u001b[39;49m\u001b[43mTFE_Py_FastPathExecute\u001b[49m\u001b[43m(\u001b[49m\n\u001b[0;32m   6178\u001b[0m \u001b[43m      \u001b[49m\u001b[43m_ctx\u001b[49m\u001b[43m,\u001b[49m\u001b[43m \u001b[49m\u001b[38;5;124;43m\"\u001b[39;49m\u001b[38;5;124;43mPrefetchDataset\u001b[39;49m\u001b[38;5;124;43m\"\u001b[39;49m\u001b[43m,\u001b[49m\u001b[43m \u001b[49m\u001b[43mname\u001b[49m\u001b[43m,\u001b[49m\u001b[43m \u001b[49m\u001b[43minput_dataset\u001b[49m\u001b[43m,\u001b[49m\u001b[43m \u001b[49m\u001b[43mbuffer_size\u001b[49m\u001b[43m,\u001b[49m\n\u001b[0;32m   6179\u001b[0m \u001b[43m      \u001b[49m\u001b[38;5;124;43m\"\u001b[39;49m\u001b[38;5;124;43moutput_types\u001b[39;49m\u001b[38;5;124;43m\"\u001b[39;49m\u001b[43m,\u001b[49m\u001b[43m \u001b[49m\u001b[43moutput_types\u001b[49m\u001b[43m,\u001b[49m\u001b[43m \u001b[49m\u001b[38;5;124;43m\"\u001b[39;49m\u001b[38;5;124;43moutput_shapes\u001b[39;49m\u001b[38;5;124;43m\"\u001b[39;49m\u001b[43m,\u001b[49m\u001b[43m \u001b[49m\u001b[43moutput_shapes\u001b[49m\u001b[43m,\u001b[49m\n\u001b[0;32m   6180\u001b[0m \u001b[43m      \u001b[49m\u001b[38;5;124;43m\"\u001b[39;49m\u001b[38;5;124;43mslack_period\u001b[39;49m\u001b[38;5;124;43m\"\u001b[39;49m\u001b[43m,\u001b[49m\u001b[43m \u001b[49m\u001b[43mslack_period\u001b[49m\u001b[43m,\u001b[49m\u001b[43m \u001b[49m\u001b[38;5;124;43m\"\u001b[39;49m\u001b[38;5;124;43mlegacy_autotune\u001b[39;49m\u001b[38;5;124;43m\"\u001b[39;49m\u001b[43m,\u001b[49m\u001b[43m \u001b[49m\u001b[43mlegacy_autotune\u001b[49m\u001b[43m,\u001b[49m\n\u001b[0;32m   6181\u001b[0m \u001b[43m      \u001b[49m\u001b[38;5;124;43m\"\u001b[39;49m\u001b[38;5;124;43mbuffer_size_min\u001b[39;49m\u001b[38;5;124;43m\"\u001b[39;49m\u001b[43m,\u001b[49m\u001b[43m \u001b[49m\u001b[43mbuffer_size_min\u001b[49m\u001b[43m,\u001b[49m\u001b[43m \u001b[49m\u001b[38;5;124;43m\"\u001b[39;49m\u001b[38;5;124;43mmetadata\u001b[39;49m\u001b[38;5;124;43m\"\u001b[39;49m\u001b[43m,\u001b[49m\u001b[43m \u001b[49m\u001b[43mmetadata\u001b[49m\u001b[43m)\u001b[49m\n\u001b[0;32m   6182\u001b[0m     \u001b[38;5;28;01mreturn\u001b[39;00m _result\n\u001b[0;32m   6183\u001b[0m   \u001b[38;5;28;01mexcept\u001b[39;00m _core\u001b[38;5;241m.\u001b[39m_NotOkStatusException \u001b[38;5;28;01mas\u001b[39;00m e:\n",
      "\u001b[1;31mKeyboardInterrupt\u001b[0m: "
     ]
    }
   ],
   "source": [
    "# Training Loop\n",
    "\n",
    "for epoch in range(epochs):\n",
    "    ###########################\n",
    "    ### TRAIN DISCRIMINATOR ###\n",
    "    ###########################\n",
    "\n",
    "    # Immagini Reali\n",
    "    idx = np.random.randint(0, x_train.shape[0], batch_size) # Campioniamo batch_size interi tra 0 e x_train.shape\n",
    "    real_images = x_train[idx]\n",
    "\n",
    "    # Immagini Fake\n",
    "    noise = np.random.randn(batch_size, latent_dim)\n",
    "    fake_images = generator.predict(noise, verbose=False)\n",
    "\n",
    "    concat_images = ops.concatenate([real_images, fake_images], axis=0)\n",
    "    concat_labels = ops.concatenate([ones, zeros], axis=0)\n",
    "\n",
    "    with tf.GradientTape() as tape:\n",
    "        pred = discriminator(concat_images)\n",
    "        d_loss = discriminator.loss(pred, concat_labels)\n",
    "    grads = tape.gradient(d_loss, discriminator.trainable_weights)\n",
    "    discriminator.optimizer.apply_gradients(zip(grads, discriminator.trainable_weights))\n",
    "    d_acc = accuracy(pred, concat_labels)\n",
    "\n",
    "    ###########################\n",
    "    ##### TRAIN GENERATOR #####\n",
    "    ###########################\n",
    "    \n",
    "    # Generiamo immagini fake e passiamo come label \"1\". Questo perchè se il discriminatore predice real (1) la loss al generatore sarà 0\n",
    "    # altrimenti sarà il contrario: se il discriminatore predice fake (0), la loss al generatore sarà alta\n",
    "    noise = np.random.randn(batch_size, latent_dim)\n",
    "    noise2 = np.random.randn(batch_size, latent_dim)\n",
    "    noise = ops.concatenate([noise, noise2], axis=0)\n",
    "    labels = ops.concatenate([ones, ones], axis=0)\n",
    "    with tf.GradientTape() as tape:\n",
    "        g_pred = discriminator(generator(noise))\n",
    "        g_loss = generator.loss(g_pred, labels)\n",
    "    grads = tape.gradient(g_loss, generator.trainable_weights)\n",
    "    generator.optimizer.apply_gradients(zip(grads, generator.trainable_weights))\n",
    "\n",
    "    g_losses.append(g_loss.numpy())\n",
    "    d_losses.append(d_loss.numpy())\n",
    "\n",
    "    if epoch % 20 == 0:\n",
    "        print(f\"Epoch {epoch+1}/{epochs} ---- Discriminator: loss -> {d_loss}; acc -> {d_acc} ||| Generator: loss -> {g_loss}\")\n",
    "\n",
    "    if epoch % sample_period == 0:\n",
    "        sample_images(epoch)"
   ]
  },
  {
   "cell_type": "code",
   "execution_count": null,
   "id": "1d87aa47-cd8c-483d-9fb9-c655f8868830",
   "metadata": {},
   "outputs": [],
   "source": []
  },
  {
   "cell_type": "code",
   "execution_count": null,
   "id": "ec82f310-6765-41cb-ad3a-901c561e046c",
   "metadata": {},
   "outputs": [],
   "source": []
  }
 ],
 "metadata": {
  "kernelspec": {
   "display_name": "Python 3 (ipykernel)",
   "language": "python",
   "name": "python3"
  },
  "language_info": {
   "codemirror_mode": {
    "name": "ipython",
    "version": 3
   },
   "file_extension": ".py",
   "mimetype": "text/x-python",
   "name": "python",
   "nbconvert_exporter": "python",
   "pygments_lexer": "ipython3",
   "version": "3.12.5"
  }
 },
 "nbformat": 4,
 "nbformat_minor": 5
}
